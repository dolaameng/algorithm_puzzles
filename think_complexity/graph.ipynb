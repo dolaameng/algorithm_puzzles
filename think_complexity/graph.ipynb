{
 "metadata": {
  "name": "graph"
 },
 "nbformat": 3,
 "nbformat_minor": 0,
 "worksheets": [
  {
   "cells": [
    {
     "cell_type": "markdown",
     "metadata": {},
     "source": [
      "<h2>Implementation of a (dict of dict) <b> simple graph </b></h2>"
     ]
    },
    {
     "cell_type": "code",
     "collapsed": false,
     "input": [
      "import random\n",
      "import pylab as pl\n",
      "random.seed(0)"
     ],
     "language": "python",
     "metadata": {},
     "outputs": [],
     "prompt_number": 6
    },
    {
     "cell_type": "code",
     "collapsed": false,
     "input": [
      "## class graph - dict of dict\n",
      "## implementation of undirected simple graph\n",
      "class Graph(dict):\n",
      "    def __init__(self, vs, es):\n",
      "        #print 'call graph constructor'\n",
      "        for v in vs:\n",
      "            self.add_vertex(v)\n",
      "        for e in es:\n",
      "            self.add_edge(e)\n",
      "    def add_vertex(self, v):\n",
      "        self[v] = {}\n",
      "        return self\n",
      "    def add_edge(self, e):\n",
      "        u, v = e\n",
      "        self[u][v] = e\n",
      "        self[v][u] = e\n",
      "        return self\n",
      "    def get_edge(self, u, v):\n",
      "        return self[u][v] if u in self and v in self[u] else None\n",
      "    def remove_edge(self, e):\n",
      "        u, v = e\n",
      "        del self[u][v]\n",
      "        del self[v][u]\n",
      "        return self\n",
      "    def vertices(self):\n",
      "        return self.keys()\n",
      "    def edges(self):\n",
      "        vertices = self.vertices()\n",
      "        return [self[u][v] for (i, u) in enumerate(vertices) \n",
      "                           for v in vertices[i+1:]\n",
      "                           if v in self[u]]\n",
      "    def out_vertices(self, v):\n",
      "        return self[v].keys() if v in self else None\n",
      "    def out_edges(self, v):\n",
      "        return self[v].values() if v in self else None\n",
      "    def bfs(self, start):\n",
      "        \"\"\"Breadth-First-Search\"\"\"\n",
      "        vertices = [v for v in self.vertices() if v is not start]\n",
      "        frontier = [start]\n",
      "        explored = set()\n",
      "        while frontier:\n",
      "            v = frontier.pop(0)\n",
      "            if v not in explored:\n",
      "                yield v\n",
      "                explored.add(v)\n",
      "                extra = self.out_vertices(v)\n",
      "                if extra: frontier += extra\n",
      "    def is_connected(self):\n",
      "        vertices = self.vertices()\n",
      "        return len(list(self.bfs(vertices[0]))) == len(vertices)\n",
      "    ## factor methods\n",
      "    @classmethod\n",
      "    def make_full_graph(cls, vs):\n",
      "        return Graph(vs, [(u, v) for (i, u) in enumerate(vs) for v in vs[i+1:]])\n",
      "    @classmethod\n",
      "    def make_random_graph(cls, vs, p):\n",
      "        \"\"\"Random Graph based on Erdos-Renyi model, with nodes\n",
      "        specified as vs, the probability is p that there is an\n",
      "        edge between two nodes\"\"\"\n",
      "        return Graph(vs, [(u, v) for (i, u) in enumerate(vs) \n",
      "                                 for v in vs[i+1:] \n",
      "                                 if random.random() <= p])"
     ],
     "language": "python",
     "metadata": {},
     "outputs": [],
     "prompt_number": 7
    },
    {
     "cell_type": "code",
     "collapsed": false,
     "input": [
      "## vertex - object with label\n",
      "## so the most significant methods will \n",
      "## be __str__ and __repr__\n",
      "class Vertex(object):\n",
      "    def __init__(self, label=''):\n",
      "        self.label = label\n",
      "    ## difference between __repr__ and __str__\n",
      "    ## __repr__ returns evaluable python str\n",
      "    ## __str__ returns human readable str\n",
      "    def __repr__(self):\n",
      "        return 'Vertex(%s)' % repr(self.label)\n",
      "    __str__ = __repr__"
     ],
     "language": "python",
     "metadata": {},
     "outputs": [],
     "prompt_number": 8
    },
    {
     "cell_type": "code",
     "collapsed": false,
     "input": [
      "## edge - tuple of vertices, make it hashable\n",
      "class Edge(tuple):\n",
      "    ## use __new__ instead of __init__\n",
      "    ## because the base class tuple is immutable\n",
      "    ## the new operator will call __new__ (create) first, and\n",
      "    ## then call __init__ (initialize) on the returned object\n",
      "    def __new__(cls, v1, v2):\n",
      "        print cls\n",
      "        return tuple.__new__(cls, (v1, v2))\n",
      "    def __repr__(self):\n",
      "        return 'Edge(%s, %s)' % (repr(self[0]), repr(self[1]))\n",
      "    __str__ = __repr__"
     ],
     "language": "python",
     "metadata": {},
     "outputs": [],
     "prompt_number": 9
    },
    {
     "cell_type": "code",
     "collapsed": false,
     "input": [
      "## test of vertex, edge and graph\n",
      "v1 = Vertex('v1')\n",
      "v2 = Vertex('v2')\n",
      "v3 = Vertex('v3')\n",
      "e1 = Edge(v1, v2)\n",
      "e2 = Edge(v1, v3)\n",
      "g = Graph([v1, v2, v3], [e1, e2])\n",
      "\n",
      "assert g.get_edge(v1, v2) == e1\n",
      "assert g.get_edge(v3, v1) == e2\n",
      "assert e1 != e2\n",
      "assert g.get_edge(v3, v2) == None\n",
      "assert g.remove_edge(e1).get_edge(v1, v2) == None\n",
      "assert g.add_edge(e1).get_edge(v2, v1) == e1\n",
      "assert set(g.vertices()) == set([v1, v2, v3])\n",
      "assert set(g.edges()) == set([e1, e2])\n",
      "assert set(g.out_vertices(v1)) == set([v2, v3])\n",
      "assert set(g.out_vertices(v2)) == set([v1])\n",
      "assert set(g.out_edges(v1)) == set([e1, e2])\n",
      "assert set(g.out_edges(v3)) == set([e2])\n",
      "\n",
      "v4 = Vertex('v4')\n",
      "g.add_vertex(v4)\n",
      "g.add_edge(Edge(v3, v4))\n",
      "assert list(g.bfs(v1))[-1] == v4\n",
      "assert list(g.bfs(v2))[-1] == v4\n",
      "assert list(g.bfs(v3))[-1] == v2\n",
      "assert g.is_connected()\n",
      "v5 = Vertex('v5')\n",
      "g.add_vertex(v5)\n",
      "assert list(g.bfs(v5)) == [v5]\n",
      "assert g.is_connected() == False\n",
      "\n",
      "fg = Graph.make_full_graph([v1, v2, v3])\n",
      "assert len(fg.vertices()) == 3\n",
      "assert len(fg.edges()) == 3\n",
      "\n",
      "rg = Graph.make_random_graph(['v%i'%(i,) for i in xrange(10)], 0.5)\n",
      "assert len(rg.vertices()) == 10"
     ],
     "language": "python",
     "metadata": {},
     "outputs": [
      {
       "output_type": "stream",
       "stream": "stdout",
       "text": [
        "<class '__main__.Edge'>\n",
        "<class '__main__.Edge'>\n",
        "<class '__main__.Edge'>\n"
       ]
      }
     ],
     "prompt_number": 10
    },
    {
     "cell_type": "code",
     "collapsed": false,
     "input": [
      "## Paul Erdos Assumption about Connectedness\n",
      "## n - number of vertices\n",
      "def test_paul_erdos_assumption(n):\n",
      "    it = 1000\n",
      "    vs = ['v'+str(i) for i in xrange(n)]\n",
      "    ps = [i / 100. for i in range(10, 100, 5)]\n",
      "    p_connected = []\n",
      "    for p in ps:\n",
      "        p_connected.append(sum([Graph.make_random_graph(vs, p).is_connected() for _ in xrange(it)]) * 1. / it)\n",
      "    pl.plot(ps, p_connected, '-', label=('n=%i'%n))\n",
      "    return [n, next(ps[i] for i in range(len(p_connected)) if p_connected[i] >= 0.99)]\n",
      "    \n",
      "pl.figure(figsize=(12, 12))\n",
      "ns = []\n",
      "ps = []\n",
      "for n in xrange(5, 65, 5):\n",
      "    print n\n",
      "    nn, pn = test_paul_erdos_assumption(n)\n",
      "    ns.append(nn)\n",
      "    ps.append(pn)\n",
      "pl.xlabel('p for random graph')\n",
      "pl.ylabel('chance of connected graph')\n",
      "pl.legend()\n",
      "\n",
      "\n",
      "pl.figure(figsize=(12, 12))\n",
      "plot(ns, ps, 'bo-')\n",
      "pl.xlabel('N vertices of random graph')\n",
      "pl.ylabel('P threshold to be 99% connected')\n"
     ],
     "language": "python",
     "metadata": {},
     "outputs": [
      {
       "output_type": "stream",
       "stream": "stdout",
       "text": [
        "5\n",
        "10"
       ]
      },
      {
       "output_type": "stream",
       "stream": "stdout",
       "text": [
        "\n",
        "15"
       ]
      },
      {
       "output_type": "stream",
       "stream": "stdout",
       "text": [
        "\n",
        "20"
       ]
      },
      {
       "output_type": "stream",
       "stream": "stdout",
       "text": [
        "\n",
        "25"
       ]
      },
      {
       "output_type": "stream",
       "stream": "stdout",
       "text": [
        "\n",
        "30"
       ]
      },
      {
       "output_type": "stream",
       "stream": "stdout",
       "text": [
        "\n",
        "35"
       ]
      },
      {
       "output_type": "stream",
       "stream": "stdout",
       "text": [
        "\n",
        "40"
       ]
      },
      {
       "output_type": "stream",
       "stream": "stdout",
       "text": [
        "\n",
        "45"
       ]
      },
      {
       "output_type": "stream",
       "stream": "stdout",
       "text": [
        "\n",
        "50"
       ]
      }
     ],
     "prompt_number": "*"
    },
    {
     "cell_type": "code",
     "collapsed": false,
     "input": [
      "print ns\n",
      "print ps"
     ],
     "language": "python",
     "metadata": {},
     "outputs": [
      {
       "output_type": "stream",
       "stream": "stdout",
       "text": [
        "[10, 20]\n",
        "[0.55, 0.35]\n"
       ]
      }
     ],
     "prompt_number": 17
    },
    {
     "cell_type": "code",
     "collapsed": false,
     "input": [],
     "language": "python",
     "metadata": {},
     "outputs": []
    }
   ],
   "metadata": {}
  }
 ]
}