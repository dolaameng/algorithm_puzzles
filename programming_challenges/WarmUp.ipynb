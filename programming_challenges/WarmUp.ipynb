{
 "metadata": {
  "name": "WarmUp"
 },
 "nbformat": 3,
 "nbformat_minor": 0,
 "worksheets": [
  {
   "cells": [
    {
     "cell_type": "markdown",
     "metadata": {},
     "source": [
      "<h2>The 3n+1 Problem</h2>\n",
      "<p>\n",
      "    Consider the following algorithm to generate a sequence of numbers. Start with an integer n. If n is even, divide by 2. If n is odd, multiply by 3 and add 1. Repeat this process with the new value of n, terminating when n = 1. For example, the following sequence of numbers will be generated for n = 22:\n",
      "22 11 34 17 52 26 13 40 20 10 5 16 8 4 2 1\n",
      "It is conjectured (but not yet proven) that this algorithm will terminate at n = 1 for every integer n. Still, the conjecture holds for all integers up to at least 1, 000, 000.\n",
      "For an input n, the cycle-length of n is the number of numbers generated up to and including the 1. In the example above, the cycle length of 22 is 16. Given any two numbers i and j, you are to determine the maximum cycle length over all numbers between i and j, including both endpoints.\n",
      "</p>\n",
      "<p>\n",
      "    Sample Input<br>\n",
      "1 10 <br>\n",
      "100 200 <br>\n",
      "201 210 <br>\n",
      "900 1000 <br>\n",
      "</p>\n",
      "<p>\n",
      "Sample Output <br>\n",
      "1 10 20 <br>\n",
      "100 200 125 <br>\n",
      "201 210 89 <br>\n",
      "900 1000 174 <br>\n",
      "</p>"
     ]
    },
    {
     "cell_type": "code",
     "collapsed": false,
     "input": [
      "## memoization cache decorator\n",
      "def memcache(f):\n",
      "    cache = {}\n",
      "    def _helper(arg):\n",
      "        if arg not in cache:\n",
      "            cache[arg] = f(arg)\n",
      "        return cache[arg]\n",
      "    return _helper\n",
      "## test it\n",
      "@memcache\n",
      "def fib(n):\n",
      "    if n == 0 or n == 1:\n",
      "        return n\n",
      "    else:\n",
      "        return fib(n-1) + fib(n-2)\n",
      "assert fib(10) == 55\n",
      "%timeit fib(30)"
     ],
     "language": "python",
     "metadata": {},
     "outputs": [
      {
       "output_type": "stream",
       "stream": "stdout",
       "text": [
        "1000000 loops, best of 3: 288 ns per loop\n"
       ]
      }
     ],
     "prompt_number": 31
    },
    {
     "cell_type": "code",
     "collapsed": false,
     "input": [
      "## get the cycle-length\n",
      "@memcache\n",
      "def cycle_len(n):\n",
      "    if n == 1:\n",
      "        return 1\n",
      "    elif n % 2 == 0:\n",
      "        return 1 + cycle_len(n / 2)\n",
      "    else:\n",
      "        return 1 + cycle_len(3 * n + 1)\n",
      "assert cycle_len(22) == 16"
     ],
     "language": "python",
     "metadata": {},
     "outputs": [],
     "prompt_number": 32
    },
    {
     "cell_type": "code",
     "collapsed": false,
     "input": [
      "def max_cycle_len(lower, upper):\n",
      "    return max(map(cycle_len, xrange(lower, upper+1)))\n",
      "assert max_cycle_len(1, 10) == 20\n",
      "assert max_cycle_len(100, 200) == 125\n",
      "assert max_cycle_len(201, 210) == 89\n",
      "assert max_cycle_len(900, 1000) == 174"
     ],
     "language": "python",
     "metadata": {},
     "outputs": [],
     "prompt_number": 33
    },
    {
     "cell_type": "markdown",
     "metadata": {},
     "source": [
      "<h2>Minesweeper</h2>\n",
      "<p>\n",
      "    Have you ever played Minesweeper? This cute little game comes with a certain op- erating system whose name we can\u2019t remember. The goal of the game is to find where all the mines are located within a M \u00d7 N field.\n",
      "The game shows a number in a square which tells you how many mines there are adjacent to that square. Each square has at most eight adjacent squares. The 4 \u00d7 4 field on the left contains two mines, each represented by a \u201c*\u201d character. If we represent the same field by the hint numbers described above, we end up with the field on the right:\n",
      "</p>\n",
      "<p>\n",
      "    <pre>\n",
      "    Sample Input\n",
      "44 \n",
      "    *... \n",
      "    .... \n",
      "    .*.. \n",
      "    .... \n",
      "35 \n",
      "    **... \n",
      "    ..... \n",
      "    .*... \n",
      "00\n",
      "Sample Output\n",
      "Field #1:\n",
      "*100\n",
      "2210\n",
      "1*10\n",
      "1110\n",
      "Field #2:\n",
      "**100\n",
      "33200\n",
      "1*100\n",
      "</pre>\n",
      "</p>"
     ]
    },
    {
     "cell_type": "code",
     "collapsed": false,
     "input": [
      "def wrap(grid, ROWS, COLS):\n",
      "    return (['.' * (COLS+2)] +\n",
      "           ['.'+r+'.' for r in grid] +\n",
      "           ['.' * (COLS+2)])\n",
      "def neighbor(r, c, grid):\n",
      "    if grid[r][c] == '*':\n",
      "        return '*'\n",
      "    else:\n",
      "        neighbors = [(-1,-1), (0, -1), (1, -1), (1, 0), (1, 1), (0, 1), (-1, 1), (-1, 0)]\n",
      "        #print [n for n in map(lambda (dr,dc): grid[r+dr][c+dc], neighbors)]\n",
      "        return str(len([n for n in map(lambda (dr,dc): grid[r+dr][c+dc], neighbors) if n == '*']))\n",
      "def mines_counter(grid):\n",
      "    grid = [r.strip() for r in grid.split(\"\\n\") if len(r) > 0]\n",
      "    ROWS, COLS = len(grid), len(grid[0])\n",
      "    wrapped_grid = wrap(grid, ROWS, COLS)\n",
      "    #print wrapped_grid\n",
      "    #print neighbor(1, 2, wrapped_grid)\n",
      "    return ([''.join([neighbor(r+1, c+1, wrapped_grid) \n",
      "                for c in xrange(COLS)])\n",
      "            for r in xrange(ROWS)])\n",
      "print mines_counter(\"\"\"\n",
      "    *... \n",
      "    .... \n",
      "    .*.. \n",
      "    ....\"\"\")\n",
      "print mines_counter(\"\"\"\n",
      "**... \n",
      "..... \n",
      ".*...\n",
      "\"\"\")"
     ],
     "language": "python",
     "metadata": {},
     "outputs": [
      {
       "output_type": "stream",
       "stream": "stdout",
       "text": [
        "['*100', '2210', '1*10', '1110']\n",
        "['**100', '33200', '1*100']\n"
       ]
      }
     ],
     "prompt_number": 52
    },
    {
     "cell_type": "code",
     "collapsed": false,
     "input": [],
     "language": "python",
     "metadata": {},
     "outputs": []
    }
   ],
   "metadata": {}
  }
 ]
}